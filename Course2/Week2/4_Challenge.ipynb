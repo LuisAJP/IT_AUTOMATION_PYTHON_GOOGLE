{
 "cells": [
  {
   "cell_type": "markdown",
   "metadata": {},
   "source": [
    "# Prerequisites\n"
   ]
  },
  {
   "cell_type": "code",
   "execution_count": null,
   "metadata": {},
   "outputs": [],
   "source": [
    "#Comprobar el fichero employees.csv en linux, para ello ir a data\n",
    "cd data\n",
    "ls\n",
    "#visualizar el fichero\n",
    "cat employees.csv\n",
    "\n",
    "#Crear  generate_report.py, para ello ir a carpeta scripts\n",
    "cd ~/scripts\n",
    "#creamos fichero python mediante el editor propio de linux\n",
    "nano generate_report.py\n",
    "\n",
    "\n",
    "# hash que utiliza el kernel como interprete y pasa el archivo como argumento\n",
    "#copialo en el fichero\n",
    "#!/usr/bin/env python3\n",
    "\n"
   ]
  },
  {
   "cell_type": "markdown",
   "metadata": {},
   "source": [
    "# Convert employee data to dictionary\n",
    "El objetivo del script es leer el archivo CSV y generar un informe con el número total de personas en cada departamento. Para lograr esto, dividiremos el script en tres funciones.\n"
   ]
  },
  {
   "cell_type": "code",
   "execution_count": null,
   "metadata": {},
   "outputs": [],
   "source": [
    "#!/usr/bin/env python3\n",
    "import csv\n",
    "#recibe un archivo CSV como parámetro y devuelve una lista de diccionarios de ese archivo\n",
    "def read_employees(csv_file_location):\n",
    "    #registraremos un dialecto empDialect .\n",
    "    csv.register_dialect('empDialect', skipinitialspace=True, strict=True)\n",
    "    #El objetivo de este dialecto es eliminar espacios iniciales al analizar el archivo CSV.\n",
    "    #DictReader crea un objeto que itera sobre líneas en el archivo CSV dado,pero también mapea la información que lee en un diccionario \n",
    "    # donde las claves son dadas por el parámetro field names.\n",
    "    # Si omitimos el parámetro de field names, los valores de la primera fila del archivo CSV se utilizarán como claves.\n",
    "    employee_file = csv.DictReader(open(csv_file_location), dialect = 'empDialect')\n",
    "    employee_list = []\n",
    "    #Ahora necesita iterar sobre el archivo CSV employee_file. Cuando itera sobre un archivo CSV, \n",
    "    # cada iteración del ciclo produce un diccionario de cadenas (clave) a cadenas (valor).\n",
    "    #Agrega los diccionarios a una lista inicializada vacía employee_list a medida \n",
    "    # que itera sobre el archivo CSV.\n",
    "    for data in employee_file:\n",
    "        employee_list.append(data)\n",
    "    return employee_list\n",
    "\n",
    "#Probar la funcion\n",
    "employee_list = read_employees('/home/student-00-20e806e97f2b/data/employees.csv')\n",
    "print(employee_list)\n",
    "\n",
    "\n",
    "#En el editor vim de linux, para guardar fichero sigue la siguiente combinacion de teclas\n",
    "# Ctrl-o, Enter y Ctrl-x.\n",
    "\n",
    "# dar permiso de ejecucion al fichero\n",
    "chmod +x generar_informe.py\n",
    "\n",
    "# ejecutar la funcion\n",
    "./generate_report.py"
   ]
  },
  {
   "cell_type": "markdown",
   "metadata": {},
   "source": [
    "OUTPUT \n",
    "\n",
    "\n",
    "[{'Full Name': 'Audrey Miller', 'Department': 'Development', 'Username': 'audrey'}, {'Full Name': '                                                                                          Arden Garcia', 'Department': 'Sales', 'Username': 'ardeng'}, {'Full Name': 'Bailey Thomas', 'Depart                                                                                          ment': 'Human Resources', 'Username': 'baileyt'}, {'Full Name': 'Blake Sousa', 'Department': 'IT in                                                                                          frastructure', 'Username': 'sousa'}, {'Full Name': 'Cameron Nguyen', 'Department': 'Marketing', 'Us                                                                                          ername': 'nguyen'}, {'Full Name': 'Charlie Grey', 'Department': 'Development', 'Username': 'greyc'}                                                                                          , {'Full Name': 'Chris Black', 'Department': 'User Experience Research', 'Username': 'chrisb'}, {'F                                                                                          ull Name': 'Courtney Silva', 'Department': 'IT infrastructure', 'Username': 'silva'}, {'Full Name':                                                                                           'Darcy Johnsonn', 'Department': 'IT infrastructure', 'Username': 'darcy'}, {'Full Name': 'Elliot L                                                                                          amb', 'Department': 'Development', 'Username': 'elliotl'}, {'Full Name': 'Emery Halls', 'Department                                                                                          ': 'Sales', 'Username': 'halls'}, {'Full Name': 'Flynn McMillan', 'Department': 'Marketing', 'Usern                                                                                          ame': 'flynn'}, {'Full Name': 'Harley Klose', 'Department': 'Human Resources', 'Username': 'harley'                                                                                          }, {'Full Name': 'Jean May Coy', 'Department': 'Vendor operations', 'Username': 'jeanm'}, {'Full Na                                                                                          me': 'Kay Stevens', 'Department': 'Sales', 'Username': 'kstev'}, {'Full Name': 'Lio Nelson', 'Depar                                                                                          tment': 'User Experience Research', 'Username': 'lion'}, {'Full Name': 'Logan Tillas', 'Department'                                                                                          : 'Vendor operations', 'Username': 'tillas'}, {'Full Name': 'Micah Lopes', 'Department': 'Developme                                                                                          nt', 'Username': 'micah'}, {'Full Name': 'Sol Mansi', 'Department': 'IT infrastructure', 'Username'                                                                                          : 'solm'}]\n"
   ]
  },
  {
   "cell_type": "markdown",
   "metadata": {},
   "source": [
    "# Process employee data\n",
    "La función process_data() recibe lista de diccionario employee_list como parámetro y devuelve un diccionario de department:amount\n",
    "\n"
   ]
  },
  {
   "cell_type": "code",
   "execution_count": null,
   "metadata": {},
   "outputs": [],
   "source": [
    "# editar fichero\n",
    "nano generar_informe.py"
   ]
  },
  {
   "cell_type": "code",
   "execution_count": null,
   "metadata": {},
   "outputs": [],
   "source": [
    "def process_data(employee_list):\n",
    "    department_list = []\n",
    "    #agregar solo los departamentos a department_list\n",
    "    for employee_data in employee_list:\n",
    "        department_list.append(employee_data['Department'])\n",
    "    department_data = {}\n",
    "    #department_list tener una lista redundante de todos los nombres de departamento. \n",
    "    #Ahora tenemos que eliminar la redundancia y devolver un diccionario\n",
    "    #set convierte elementos iterables en elementos distintos.\n",
    "    for department_name in set(department_list):\n",
    "        #Devolveremos este diccionario en el formato departamento:cantidad,\n",
    "        # donde cantidad es el número de empleados en ese departamento en particular.\n",
    "        department_data[department_name] = department_list.count(department_name)\n",
    "    return department_data\n",
    "\n",
    "#Esto debería devolver un diccionario en el departamento de formato : cantidad , como se muestra a continuación.\n",
    "dictionary = process_data(employee_list)\n",
    "print(dictionary)"
   ]
  },
  {
   "cell_type": "code",
   "execution_count": null,
   "metadata": {},
   "outputs": [],
   "source": [
    "#Probar la funcion, recuerda comentar el print del apartado anterior print(employee_list)\n",
    "./generate_report.py"
   ]
  },
  {
   "cell_type": "markdown",
   "metadata": {},
   "source": [
    "OUTPUT\n",
    "\n",
    "{'Marketing': 2, 'Vendor operations': 2, 'Human Resources': 2, 'User Experience Research': 2, 'IT infrastructure': 4, 'Development': 4, 'Sales': 3}\n"
   ]
  },
  {
   "cell_type": "markdown",
   "metadata": {},
   "source": [
    "# Generate a report\n",
    "\n",
    "La función write_report. Esta función escribe un diccionario de departamento:importe en un fichero.\n",
    "\n",
    "El informe debe tener el formato:\n",
    "\n",
    "< departamento1 >: < cantidad1 >\n",
    "\n",
    "< departamento2 >: < cantidad2 >"
   ]
  },
  {
   "cell_type": "code",
   "execution_count": null,
   "metadata": {},
   "outputs": [],
   "source": [
    "#Vuelvo a abrir el fichero\n",
    "nano generar_informe.py"
   ]
  },
  {
   "cell_type": "code",
   "execution_count": null,
   "metadata": {},
   "outputs": [],
   "source": [
    "def write_report(dictionary, report_file):\n",
    "  #para abrir un fichero, el modo 'w+' (abrir para leer y escribir, sobrescribir un archivo) como parámetro.\n",
    "  with open(report_file, \"w+\") as f:\n",
    "    for k in sorted(dictionary):\n",
    "      f.write(str(k)+':'+str(dictionary[k])+'\\n')\n",
    "    f.close()\n",
    "\n",
    "write_report(dictionary, '/home/student-00-20e806e97f2b/data/report.txt/')"
   ]
  },
  {
   "cell_type": "code",
   "execution_count": null,
   "metadata": {},
   "outputs": [],
   "source": [
    "#guardar fichero \n",
    "Ctrl-o, Enter y Ctrl-x.\n",
    "#Ejecutamos el script\n",
    "./generate_report.py\n",
    "#comprobamos el fichero generado report.txt\n",
    "cd ~/datos\n",
    "ls\n",
    "\n",
    "cat report.txt"
   ]
  },
  {
   "cell_type": "markdown",
   "metadata": {},
   "source": [
    "OUTPUT\n",
    "\n",
    "Development:4\n",
    "\n",
    "Human Resources:2\n",
    "\n",
    "IT infrastructure:4\n",
    "\n",
    "Marketing:2\n",
    "\n",
    "Sales:3\n",
    "\n",
    "User Experience Research:2\n",
    "\n",
    "Vendor operations:2\n",
    "\n"
   ]
  }
 ],
 "metadata": {
  "kernelspec": {
   "display_name": "Python 3.10.7 64-bit",
   "language": "python",
   "name": "python3"
  },
  "language_info": {
   "name": "python",
   "version": "3.10.7"
  },
  "orig_nbformat": 4,
  "vscode": {
   "interpreter": {
    "hash": "26de051ba29f2982a8de78e945f0abaf191376122a1563185a90213a26c5da77"
   }
  }
 },
 "nbformat": 4,
 "nbformat_minor": 2
}
